{
 "cells": [
  {
   "cell_type": "code",
   "execution_count": 24,
   "id": "8ba77e78",
   "metadata": {},
   "outputs": [],
   "source": [
    "import pandas as pd\n",
    "from sklearn.preprocessing import OneHotEncoder, StandardScaler"
   ]
  },
  {
   "cell_type": "code",
   "execution_count": 25,
   "id": "335a6c5b",
   "metadata": {},
   "outputs": [
    {
     "data": {
      "text/html": [
       "<div>\n",
       "<style scoped>\n",
       "    .dataframe tbody tr th:only-of-type {\n",
       "        vertical-align: middle;\n",
       "    }\n",
       "\n",
       "    .dataframe tbody tr th {\n",
       "        vertical-align: top;\n",
       "    }\n",
       "\n",
       "    .dataframe thead th {\n",
       "        text-align: right;\n",
       "    }\n",
       "</style>\n",
       "<table border=\"1\" class=\"dataframe\">\n",
       "  <thead>\n",
       "    <tr style=\"text-align: right;\">\n",
       "      <th></th>\n",
       "      <th>Age</th>\n",
       "      <th>Income</th>\n",
       "      <th>LoanAmount</th>\n",
       "      <th>CreditScore</th>\n",
       "      <th>MonthsEmployed</th>\n",
       "      <th>NumCreditLines</th>\n",
       "      <th>InterestRate</th>\n",
       "      <th>LoanTerm</th>\n",
       "      <th>DTIRatio</th>\n",
       "      <th>Education</th>\n",
       "      <th>EmploymentType</th>\n",
       "      <th>MaritalStatus</th>\n",
       "      <th>HasMortgage</th>\n",
       "      <th>HasDependents</th>\n",
       "      <th>LoanPurpose</th>\n",
       "      <th>HasCoSigner</th>\n",
       "      <th>Default</th>\n",
       "    </tr>\n",
       "  </thead>\n",
       "  <tbody>\n",
       "    <tr>\n",
       "      <th>0</th>\n",
       "      <td>56</td>\n",
       "      <td>85994</td>\n",
       "      <td>50587</td>\n",
       "      <td>520</td>\n",
       "      <td>80</td>\n",
       "      <td>4</td>\n",
       "      <td>15.23</td>\n",
       "      <td>36</td>\n",
       "      <td>0.44</td>\n",
       "      <td>Bachelor's</td>\n",
       "      <td>Full-time</td>\n",
       "      <td>Divorced</td>\n",
       "      <td>Yes</td>\n",
       "      <td>Yes</td>\n",
       "      <td>Other</td>\n",
       "      <td>Yes</td>\n",
       "      <td>0</td>\n",
       "    </tr>\n",
       "    <tr>\n",
       "      <th>1</th>\n",
       "      <td>69</td>\n",
       "      <td>50432</td>\n",
       "      <td>124440</td>\n",
       "      <td>458</td>\n",
       "      <td>15</td>\n",
       "      <td>1</td>\n",
       "      <td>4.81</td>\n",
       "      <td>60</td>\n",
       "      <td>0.68</td>\n",
       "      <td>Master's</td>\n",
       "      <td>Full-time</td>\n",
       "      <td>Married</td>\n",
       "      <td>No</td>\n",
       "      <td>No</td>\n",
       "      <td>Other</td>\n",
       "      <td>Yes</td>\n",
       "      <td>0</td>\n",
       "    </tr>\n",
       "    <tr>\n",
       "      <th>2</th>\n",
       "      <td>46</td>\n",
       "      <td>84208</td>\n",
       "      <td>129188</td>\n",
       "      <td>451</td>\n",
       "      <td>26</td>\n",
       "      <td>3</td>\n",
       "      <td>21.17</td>\n",
       "      <td>24</td>\n",
       "      <td>0.31</td>\n",
       "      <td>Master's</td>\n",
       "      <td>Unemployed</td>\n",
       "      <td>Divorced</td>\n",
       "      <td>Yes</td>\n",
       "      <td>Yes</td>\n",
       "      <td>Auto</td>\n",
       "      <td>No</td>\n",
       "      <td>1</td>\n",
       "    </tr>\n",
       "    <tr>\n",
       "      <th>3</th>\n",
       "      <td>32</td>\n",
       "      <td>31713</td>\n",
       "      <td>44799</td>\n",
       "      <td>743</td>\n",
       "      <td>0</td>\n",
       "      <td>3</td>\n",
       "      <td>7.07</td>\n",
       "      <td>24</td>\n",
       "      <td>0.23</td>\n",
       "      <td>High School</td>\n",
       "      <td>Full-time</td>\n",
       "      <td>Married</td>\n",
       "      <td>No</td>\n",
       "      <td>No</td>\n",
       "      <td>Business</td>\n",
       "      <td>No</td>\n",
       "      <td>0</td>\n",
       "    </tr>\n",
       "    <tr>\n",
       "      <th>4</th>\n",
       "      <td>60</td>\n",
       "      <td>20437</td>\n",
       "      <td>9139</td>\n",
       "      <td>633</td>\n",
       "      <td>8</td>\n",
       "      <td>4</td>\n",
       "      <td>6.51</td>\n",
       "      <td>48</td>\n",
       "      <td>0.73</td>\n",
       "      <td>Bachelor's</td>\n",
       "      <td>Unemployed</td>\n",
       "      <td>Divorced</td>\n",
       "      <td>No</td>\n",
       "      <td>Yes</td>\n",
       "      <td>Auto</td>\n",
       "      <td>No</td>\n",
       "      <td>0</td>\n",
       "    </tr>\n",
       "  </tbody>\n",
       "</table>\n",
       "</div>"
      ],
      "text/plain": [
       "   Age  Income  LoanAmount  CreditScore  MonthsEmployed  NumCreditLines  \\\n",
       "0   56   85994       50587          520              80               4   \n",
       "1   69   50432      124440          458              15               1   \n",
       "2   46   84208      129188          451              26               3   \n",
       "3   32   31713       44799          743               0               3   \n",
       "4   60   20437        9139          633               8               4   \n",
       "\n",
       "   InterestRate  LoanTerm  DTIRatio    Education EmploymentType MaritalStatus  \\\n",
       "0         15.23        36      0.44   Bachelor's      Full-time      Divorced   \n",
       "1          4.81        60      0.68     Master's      Full-time       Married   \n",
       "2         21.17        24      0.31     Master's     Unemployed      Divorced   \n",
       "3          7.07        24      0.23  High School      Full-time       Married   \n",
       "4          6.51        48      0.73   Bachelor's     Unemployed      Divorced   \n",
       "\n",
       "  HasMortgage HasDependents LoanPurpose HasCoSigner  Default  \n",
       "0         Yes           Yes       Other         Yes        0  \n",
       "1          No            No       Other         Yes        0  \n",
       "2         Yes           Yes        Auto          No        1  \n",
       "3          No            No    Business          No        0  \n",
       "4          No           Yes        Auto          No        0  "
      ]
     },
     "execution_count": 25,
     "metadata": {},
     "output_type": "execute_result"
    }
   ],
   "source": [
    "loan_default_df = pd.read_csv(\"../data/raw/Loan_default.csv\").drop(\"LoanID\", axis=1)\n",
    "loan_default_df.head()"
   ]
  },
  {
   "cell_type": "code",
   "execution_count": 26,
   "id": "676f457d",
   "metadata": {},
   "outputs": [],
   "source": [
    "ld_transformed = loan_default_df.copy()"
   ]
  },
  {
   "cell_type": "markdown",
   "id": "01f9a097",
   "metadata": {},
   "source": [
    "# Ordinal Variables"
   ]
  },
  {
   "cell_type": "code",
   "execution_count": 27,
   "id": "13bd3384",
   "metadata": {},
   "outputs": [],
   "source": [
    "map_dict_education = {\n",
    "    \"High School\": 1,\n",
    "    \"Bachelor's\": 2,\n",
    "    \"Master's\": 3,\n",
    "    \"PhD\": 4\n",
    "}\n",
    "map_dict_employment = {\n",
    "    'Unemployed': 1,\n",
    "    'Part-time': 2,\n",
    "    'Self-employed': 3,\n",
    "    'Full-time': 4\n",
    "}\n",
    "\n",
    "ld_transformed[\"Education\"] = ld_transformed[\"Education\"].map(map_dict_education)\n",
    "ld_transformed[\"EmploymentType\"] = ld_transformed[\"EmploymentType\"].map(map_dict_employment)"
   ]
  },
  {
   "cell_type": "markdown",
   "id": "7e421b8f",
   "metadata": {},
   "source": [
    "# One-Hot Encoding and dummies"
   ]
  },
  {
   "cell_type": "code",
   "execution_count": 28,
   "id": "05d03a28",
   "metadata": {},
   "outputs": [],
   "source": [
    "ohe_variables = [\"MaritalStatus\", \"LoanPurpose\"]\n",
    "\n",
    "ohe = OneHotEncoder(drop=\"first\", handle_unknown=\"ignore\", sparse_output=False, dtype=\"int8\")\n",
    "ohe_array = ohe.fit_transform(loan_default_df[ohe_variables])\n",
    "ohe_output_col_names = ohe.get_feature_names_out()\n",
    "\n",
    "ohe_df = pd.DataFrame(ohe_array, columns=ohe_output_col_names)\n",
    "ld_transformed.drop(ohe_variables, axis=1, inplace=True)\n",
    "\n",
    "ld_transformed = pd.concat([ld_transformed, ohe_df], axis=1)"
   ]
  },
  {
   "cell_type": "code",
   "execution_count": 29,
   "id": "211c15d4",
   "metadata": {},
   "outputs": [],
   "source": [
    "dummies_variables = [\"HasMortgage\", \"HasDependents\", \"HasCoSigner\"]\n",
    "\n",
    "ld_transformed[dummies_variables] = pd.get_dummies(\n",
    "    ld_transformed[dummies_variables],\n",
    "    drop_first=\"True\",\n",
    "    dtype=\"int8\"\n",
    ")"
   ]
  },
  {
   "cell_type": "markdown",
   "id": "f022b41d",
   "metadata": {},
   "source": [
    "# Standarization"
   ]
  },
  {
   "cell_type": "code",
   "execution_count": 30,
   "id": "15ad04e0",
   "metadata": {},
   "outputs": [],
   "source": [
    "cat_var_and_label = list(ohe_output_col_names) + list(dummies_variables) + [\"Default\"] + [\"Education\", \"EmploymentType\"]\n",
    "num_cols = ld_transformed.columns[~ld_transformed.columns.isin(cat_var_and_label)]\n",
    "\n",
    "sc = StandardScaler()\n",
    "standarized_output = sc.fit_transform(ld_transformed[num_cols])\n",
    "\n",
    "ld_transformed[num_cols] = standarized_output"
   ]
  },
  {
   "cell_type": "code",
   "execution_count": 31,
   "id": "fdc158ec",
   "metadata": {},
   "outputs": [
    {
     "data": {
      "text/plain": [
       "Index(['Age', 'Income', 'LoanAmount', 'CreditScore', 'MonthsEmployed',\n",
       "       'NumCreditLines', 'InterestRate', 'LoanTerm', 'DTIRatio'],\n",
       "      dtype='object')"
      ]
     },
     "execution_count": 31,
     "metadata": {},
     "output_type": "execute_result"
    }
   ],
   "source": [
    "num_cols"
   ]
  },
  {
   "cell_type": "markdown",
   "id": "9129acfe",
   "metadata": {},
   "source": [
    "# Data Types"
   ]
  },
  {
   "cell_type": "code",
   "execution_count": 32,
   "id": "c4fb4a56",
   "metadata": {},
   "outputs": [],
   "source": [
    "data_types_dict = {\n",
    "    \"Default\":\"int8\"\n",
    "}\n",
    "\n",
    "ld_transformed = ld_transformed.astype(data_types_dict)"
   ]
  },
  {
   "cell_type": "markdown",
   "id": "f0764200",
   "metadata": {},
   "source": [
    "# Saving"
   ]
  },
  {
   "cell_type": "code",
   "execution_count": 33,
   "id": "137f5c41",
   "metadata": {},
   "outputs": [],
   "source": [
    "all_cols = list(ld_transformed.columns)\n",
    "label_column = \"Default\"\n",
    "\n",
    "all_cols.remove(label_column)\n",
    "\n",
    "ld_transformed = ld_transformed[[label_column] + all_cols]"
   ]
  },
  {
   "cell_type": "code",
   "execution_count": 34,
   "id": "c04c5a9a",
   "metadata": {},
   "outputs": [],
   "source": [
    "ld_transformed.to_parquet(\"../data/processed/loan_default.parquet\")"
   ]
  },
  {
   "cell_type": "markdown",
   "id": "a6aaa22c",
   "metadata": {},
   "source": [
    "# Aproximation Processing code"
   ]
  },
  {
   "cell_type": "code",
   "execution_count": 4,
   "id": "b1410ef4",
   "metadata": {},
   "outputs": [],
   "source": [
    "import argparse\n",
    "from glob import glob\n",
    "\n",
    "import pandas as pd\n",
    "\n",
    "from sklearn.preprocessing import (\n",
    "    OneHotEncoder,\n",
    "    StandardScaler,\n",
    "    OrdinalEncoder\n",
    ")\n",
    "from sklearn.compose import ColumnTransformer\n",
    "\n",
    "\n",
    "csv_files = glob(\"../data/raw/*csv\")\n",
    "\n",
    "if len(csv_files) == 1:\n",
    "    df = pd.read_csv(csv_files[0])\n",
    "elif len(csv_files) > 1:\n",
    "    df = pd.concat([pd.read_csv(file) for file in csv_files])\n",
    "else:\n",
    "    raise ValueError(\"Zero csv files were found. Check at least one CSV is present in the respective folder\") \n",
    "\n",
    "df.drop(\"LoanID\", inplace=True, axis=1)\n",
    "\n",
    "\n",
    "# Defining the variables and expected values \n",
    "# to transform (ordinal, nominal and numeric variables)\n",
    "ordinal_var = {\n",
    "    \"Education\": [[\"High School\", \"Bachelor's\", \"Master's\", \"PhD\"]],\n",
    "    \"EmploymentType\": [['Unemployed', 'Part-time', 'Self-employed', 'Full-time']]\n",
    "}\n",
    "nominal_var = [\"MaritalStatus\", \"LoanPurpose\", \"HasMortgage\", \"HasDependents\", \"HasCoSigner\"]\n",
    "numeric_var = ['Age', 'Income', 'LoanAmount', 'CreditScore', 'MonthsEmployed', 'NumCreditLines', 'InterestRate', 'LoanTerm', 'DTIRatio']\n",
    "\n",
    "\n",
    "# Defining encoding to ordinal variables\n",
    "ordinal_pipeline = []\n",
    "for var_name, var_labels in ordinal_var.items():\n",
    "    encoder = OrdinalEncoder(\n",
    "        categories=var_labels,\n",
    "        handle_unknown='use_encoded_value',\n",
    "        unknown_value=-1,\n",
    "        dtype=\"int16\"\n",
    "    )\n",
    "    encoder_transformer = (var_name[:3].lower(), encoder, [var_name])\n",
    "    ordinal_pipeline.append(encoder_transformer)\n",
    "\n",
    "# Defining encoding to nominal variables\n",
    "one_hot_encoder = OneHotEncoder(\n",
    "    drop=\"first\",\n",
    "    handle_unknown=\"ignore\",\n",
    "    sparse_output=False, dtype=\"int8\"\n",
    ")\n",
    "\n",
    "# Defining encoding to transform numeric variables\n",
    "standarization = StandardScaler()\n",
    "\n",
    "\n",
    "# Pipeline (ordinal + nominal [One Hot Encoder] + numeric [Standarization])\n",
    "transformer_pipeline = ordinal_pipeline\n",
    "transformer_pipeline += [\n",
    "    (\"ohe\", one_hot_encoder, nominal_var),\n",
    "    (\"standarization\", standarization, numeric_var)\n",
    "]\n",
    "\n",
    "transformer = ColumnTransformer(\n",
    "    transformers=transformer_pipeline,\n",
    "    remainder='passthrough',\n",
    "    verbose_feature_names_out=True\n",
    ")\n",
    "\n",
    "transformed_data = transformer.fit_transform(df)\n",
    "\n",
    "transformed_data = pd.DataFrame(\n",
    "    transformed_data,\n",
    "    columns=transformer.get_feature_names_out()\n",
    ")\n",
    "y = transformed_data.pop(\"remainder__Default\").astype(\"int8\")\n",
    "transformed_data = pd.concat([y, transformed_data], axis=1)\n",
    "\n",
    "transformed_data.to_parquet(\"../data/processed/processed_data.parquet\", index=False)"
   ]
  }
 ],
 "metadata": {
  "kernelspec": {
   "display_name": "aws",
   "language": "python",
   "name": "python3"
  },
  "language_info": {
   "codemirror_mode": {
    "name": "ipython",
    "version": 3
   },
   "file_extension": ".py",
   "mimetype": "text/x-python",
   "name": "python",
   "nbconvert_exporter": "python",
   "pygments_lexer": "ipython3",
   "version": "3.12.11"
  }
 },
 "nbformat": 4,
 "nbformat_minor": 5
}
