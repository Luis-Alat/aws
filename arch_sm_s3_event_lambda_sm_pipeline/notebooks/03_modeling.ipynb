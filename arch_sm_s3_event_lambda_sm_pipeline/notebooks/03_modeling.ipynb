{
 "cells": [
  {
   "cell_type": "code",
   "execution_count": 1,
   "id": "31521e94",
   "metadata": {},
   "outputs": [],
   "source": [
    "import pandas as pd\n",
    "import numpy as np\n",
    "import joblib\n",
    "\n",
    "from sklearn.ensemble import RandomForestClassifier\n",
    "from sklearn.tree import DecisionTreeClassifier\n",
    "from sklearn.model_selection import train_test_split, RandomizedSearchCV\n",
    "from sklearn.metrics import (\n",
    "    f1_score, \n",
    "    accuracy_score,\n",
    "    recall_score,\n",
    "    precision_score,\n",
    "    confusion_matrix,\n",
    "    classification_report\n",
    ")"
   ]
  },
  {
   "cell_type": "markdown",
   "id": "e53c4997",
   "metadata": {},
   "source": [
    "# Functions"
   ]
  },
  {
   "cell_type": "code",
   "execution_count": 2,
   "id": "61171912",
   "metadata": {},
   "outputs": [],
   "source": [
    "def get_summary_classification_metrics(y_true, y_predict) -> dict:\n",
    "\n",
    "    summary = {\n",
    "        \"f1_score\": f1_score(y_true, y_predict),\n",
    "        \"accuracy_score\": accuracy_score(y_true, y_predict),\n",
    "        \"recall_score\": recall_score(y_true, y_predict),\n",
    "        \"precision_score\": precision_score(y_true, y_predict),\n",
    "        \"classification_report\": classification_report(y_true, y_predict),\n",
    "        \"confusion_matrix\": confusion_matrix(y_true, y_predict)\n",
    "    }\n",
    "\n",
    "    return summary"
   ]
  },
  {
   "cell_type": "code",
   "execution_count": null,
   "id": "0db9ed2a",
   "metadata": {},
   "outputs": [
    {
     "name": "stdout",
     "output_type": "stream",
     "text": [
      "<class 'pandas.core.frame.DataFrame'>\n",
      "Index: 100000 entries, 565155 to 607121\n",
      "Data columns (total 45 columns):\n",
      " #   Column                         Non-Null Count   Dtype  \n",
      "---  ------                         --------------   -----  \n",
      " 0   survived                       100000 non-null  int8   \n",
      " 1   age                            100000 non-null  float64\n",
      " 2   bmi                            100000 non-null  float64\n",
      " 3   cholesterol_level              100000 non-null  float64\n",
      " 4   hypertension                   100000 non-null  int8   \n",
      " 5   asthma                         100000 non-null  int8   \n",
      " 6   cirrhosis                      100000 non-null  int8   \n",
      " 7   other_cancer                   100000 non-null  int8   \n",
      " 8   gender_Male                    100000 non-null  int8   \n",
      " 9   country_Belgium                100000 non-null  int8   \n",
      " 10  country_Bulgaria               100000 non-null  int8   \n",
      " 11  country_Croatia                100000 non-null  int8   \n",
      " 12  country_Cyprus                 100000 non-null  int8   \n",
      " 13  country_Czech Republic         100000 non-null  int8   \n",
      " 14  country_Denmark                100000 non-null  int8   \n",
      " 15  country_Estonia                100000 non-null  int8   \n",
      " 16  country_Finland                100000 non-null  int8   \n",
      " 17  country_France                 100000 non-null  int8   \n",
      " 18  country_Germany                100000 non-null  int8   \n",
      " 19  country_Greece                 100000 non-null  int8   \n",
      " 20  country_Hungary                100000 non-null  int8   \n",
      " 21  country_Ireland                100000 non-null  int8   \n",
      " 22  country_Italy                  100000 non-null  int8   \n",
      " 23  country_Latvia                 100000 non-null  int8   \n",
      " 24  country_Lithuania              100000 non-null  int8   \n",
      " 25  country_Luxembourg             100000 non-null  int8   \n",
      " 26  country_Malta                  100000 non-null  int8   \n",
      " 27  country_Netherlands            100000 non-null  int8   \n",
      " 28  country_Poland                 100000 non-null  int8   \n",
      " 29  country_Portugal               100000 non-null  int8   \n",
      " 30  country_Romania                100000 non-null  int8   \n",
      " 31  country_Slovakia               100000 non-null  int8   \n",
      " 32  country_Slovenia               100000 non-null  int8   \n",
      " 33  country_Spain                  100000 non-null  int8   \n",
      " 34  country_Sweden                 100000 non-null  int8   \n",
      " 35  cancer_stage_Stage II          100000 non-null  int8   \n",
      " 36  cancer_stage_Stage III         100000 non-null  int8   \n",
      " 37  cancer_stage_Stage IV          100000 non-null  int8   \n",
      " 38  family_history_Yes             100000 non-null  int8   \n",
      " 39  smoking_status_Former Smoker   100000 non-null  int8   \n",
      " 40  smoking_status_Never Smoked    100000 non-null  int8   \n",
      " 41  smoking_status_Passive Smoker  100000 non-null  int8   \n",
      " 42  treatment_type_Combined        100000 non-null  int8   \n",
      " 43  treatment_type_Radiation       100000 non-null  int8   \n",
      " 44  treatment_type_Surgery         100000 non-null  int8   \n",
      "dtypes: float64(3), int8(42)\n",
      "memory usage: 7.1 MB\n"
     ]
    }
   ],
   "source": [
    "lung_cancer_df = pd.read_parquet(\"../data/processed/lung_cancer.parquet\").sample(sample_number)\n",
    "lung_cancer_df.info()"
   ]
  },
  {
   "cell_type": "code",
   "execution_count": 4,
   "id": "084ef39e",
   "metadata": {},
   "outputs": [
    {
     "data": {
      "text/plain": [
       "survived\n",
       "0    78123\n",
       "1    21877\n",
       "Name: count, dtype: int64"
      ]
     },
     "execution_count": 4,
     "metadata": {},
     "output_type": "execute_result"
    }
   ],
   "source": [
    "# Ratio between clases\n",
    "lung_cancer_df[\"survived\"].value_counts()"
   ]
  },
  {
   "cell_type": "code",
   "execution_count": 5,
   "id": "ffaee3f1",
   "metadata": {},
   "outputs": [
    {
     "data": {
      "text/plain": [
       "3.540723658700843"
      ]
     },
     "execution_count": 5,
     "metadata": {},
     "output_type": "execute_result"
    }
   ],
   "source": [
    "693996 / 196004"
   ]
  },
  {
   "cell_type": "markdown",
   "id": "bba009c6",
   "metadata": {},
   "source": [
    "# Splitting"
   ]
  },
  {
   "cell_type": "code",
   "execution_count": 6,
   "id": "e99abdd6",
   "metadata": {},
   "outputs": [],
   "source": [
    "y = lung_cancer_df.pop(\"survived\")\n",
    "X = lung_cancer_df\n",
    "\n",
    "X_train, X_test, y_train, y_test = train_test_split(X, y, train_size=0.8, stratify=y)"
   ]
  },
  {
   "cell_type": "markdown",
   "id": "290072e7",
   "metadata": {},
   "source": [
    "# Modeling"
   ]
  }
 ],
 "metadata": {
  "kernelspec": {
   "display_name": "aws",
   "language": "python",
   "name": "python3"
  },
  "language_info": {
   "codemirror_mode": {
    "name": "ipython",
    "version": 3
   },
   "file_extension": ".py",
   "mimetype": "text/x-python",
   "name": "python",
   "nbconvert_exporter": "python",
   "pygments_lexer": "ipython3",
   "version": "3.12.11"
  }
 },
 "nbformat": 4,
 "nbformat_minor": 5
}
