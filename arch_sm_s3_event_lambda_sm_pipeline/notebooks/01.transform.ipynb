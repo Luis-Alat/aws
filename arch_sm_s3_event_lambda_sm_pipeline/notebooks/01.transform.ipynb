{
 "cells": [
  {
   "cell_type": "code",
   "execution_count": 42,
   "id": "8ba77e78",
   "metadata": {},
   "outputs": [],
   "source": [
    "import pandas as pd\n",
    "from sklearn.preprocessing import OneHotEncoder, StandardScaler"
   ]
  },
  {
   "cell_type": "code",
   "execution_count": 43,
   "id": "335a6c5b",
   "metadata": {},
   "outputs": [],
   "source": [
    "lung_cancer_df = pd.read_csv(\"../data/raw/Lung_Cancer.csv\")\n",
    "lung_cancer_df.drop(\"id\", axis=1, inplace=True)"
   ]
  },
  {
   "cell_type": "code",
   "execution_count": 44,
   "id": "7bab1080",
   "metadata": {},
   "outputs": [
    {
     "name": "stdout",
     "output_type": "stream",
     "text": [
      "<class 'pandas.core.frame.DataFrame'>\n",
      "RangeIndex: 890000 entries, 0 to 889999\n",
      "Data columns (total 16 columns):\n",
      " #   Column              Non-Null Count   Dtype  \n",
      "---  ------              --------------   -----  \n",
      " 0   age                 890000 non-null  float64\n",
      " 1   gender              890000 non-null  object \n",
      " 2   country             890000 non-null  object \n",
      " 3   diagnosis_date      890000 non-null  object \n",
      " 4   cancer_stage        890000 non-null  object \n",
      " 5   family_history      890000 non-null  object \n",
      " 6   smoking_status      890000 non-null  object \n",
      " 7   bmi                 890000 non-null  float64\n",
      " 8   cholesterol_level   890000 non-null  int64  \n",
      " 9   hypertension        890000 non-null  int64  \n",
      " 10  asthma              890000 non-null  int64  \n",
      " 11  cirrhosis           890000 non-null  int64  \n",
      " 12  other_cancer        890000 non-null  int64  \n",
      " 13  treatment_type      890000 non-null  object \n",
      " 14  end_treatment_date  890000 non-null  object \n",
      " 15  survived            890000 non-null  int64  \n",
      "dtypes: float64(2), int64(6), object(8)\n",
      "memory usage: 108.6+ MB\n"
     ]
    }
   ],
   "source": [
    "lung_cancer_df.info()"
   ]
  },
  {
   "cell_type": "code",
   "execution_count": 45,
   "id": "4fb283d8",
   "metadata": {},
   "outputs": [
    {
     "data": {
      "text/html": [
       "<div>\n",
       "<style scoped>\n",
       "    .dataframe tbody tr th:only-of-type {\n",
       "        vertical-align: middle;\n",
       "    }\n",
       "\n",
       "    .dataframe tbody tr th {\n",
       "        vertical-align: top;\n",
       "    }\n",
       "\n",
       "    .dataframe thead th {\n",
       "        text-align: right;\n",
       "    }\n",
       "</style>\n",
       "<table border=\"1\" class=\"dataframe\">\n",
       "  <thead>\n",
       "    <tr style=\"text-align: right;\">\n",
       "      <th></th>\n",
       "      <th>age</th>\n",
       "      <th>gender</th>\n",
       "      <th>country</th>\n",
       "      <th>diagnosis_date</th>\n",
       "      <th>cancer_stage</th>\n",
       "      <th>family_history</th>\n",
       "      <th>smoking_status</th>\n",
       "      <th>bmi</th>\n",
       "      <th>cholesterol_level</th>\n",
       "      <th>hypertension</th>\n",
       "      <th>asthma</th>\n",
       "      <th>cirrhosis</th>\n",
       "      <th>other_cancer</th>\n",
       "      <th>treatment_type</th>\n",
       "      <th>end_treatment_date</th>\n",
       "      <th>survived</th>\n",
       "    </tr>\n",
       "  </thead>\n",
       "  <tbody>\n",
       "    <tr>\n",
       "      <th>0</th>\n",
       "      <td>64.0</td>\n",
       "      <td>Male</td>\n",
       "      <td>Sweden</td>\n",
       "      <td>2016-04-05</td>\n",
       "      <td>Stage I</td>\n",
       "      <td>Yes</td>\n",
       "      <td>Passive Smoker</td>\n",
       "      <td>29.4</td>\n",
       "      <td>199</td>\n",
       "      <td>0</td>\n",
       "      <td>0</td>\n",
       "      <td>1</td>\n",
       "      <td>0</td>\n",
       "      <td>Chemotherapy</td>\n",
       "      <td>2017-09-10</td>\n",
       "      <td>0</td>\n",
       "    </tr>\n",
       "    <tr>\n",
       "      <th>1</th>\n",
       "      <td>50.0</td>\n",
       "      <td>Female</td>\n",
       "      <td>Netherlands</td>\n",
       "      <td>2023-04-20</td>\n",
       "      <td>Stage III</td>\n",
       "      <td>Yes</td>\n",
       "      <td>Passive Smoker</td>\n",
       "      <td>41.2</td>\n",
       "      <td>280</td>\n",
       "      <td>1</td>\n",
       "      <td>1</td>\n",
       "      <td>0</td>\n",
       "      <td>0</td>\n",
       "      <td>Surgery</td>\n",
       "      <td>2024-06-17</td>\n",
       "      <td>1</td>\n",
       "    </tr>\n",
       "    <tr>\n",
       "      <th>2</th>\n",
       "      <td>65.0</td>\n",
       "      <td>Female</td>\n",
       "      <td>Hungary</td>\n",
       "      <td>2023-04-05</td>\n",
       "      <td>Stage III</td>\n",
       "      <td>Yes</td>\n",
       "      <td>Former Smoker</td>\n",
       "      <td>44.0</td>\n",
       "      <td>268</td>\n",
       "      <td>1</td>\n",
       "      <td>1</td>\n",
       "      <td>0</td>\n",
       "      <td>0</td>\n",
       "      <td>Combined</td>\n",
       "      <td>2024-04-09</td>\n",
       "      <td>0</td>\n",
       "    </tr>\n",
       "    <tr>\n",
       "      <th>3</th>\n",
       "      <td>51.0</td>\n",
       "      <td>Female</td>\n",
       "      <td>Belgium</td>\n",
       "      <td>2016-02-05</td>\n",
       "      <td>Stage I</td>\n",
       "      <td>No</td>\n",
       "      <td>Passive Smoker</td>\n",
       "      <td>43.0</td>\n",
       "      <td>241</td>\n",
       "      <td>1</td>\n",
       "      <td>1</td>\n",
       "      <td>0</td>\n",
       "      <td>0</td>\n",
       "      <td>Chemotherapy</td>\n",
       "      <td>2017-04-23</td>\n",
       "      <td>0</td>\n",
       "    </tr>\n",
       "    <tr>\n",
       "      <th>4</th>\n",
       "      <td>37.0</td>\n",
       "      <td>Male</td>\n",
       "      <td>Luxembourg</td>\n",
       "      <td>2023-11-29</td>\n",
       "      <td>Stage I</td>\n",
       "      <td>No</td>\n",
       "      <td>Passive Smoker</td>\n",
       "      <td>19.7</td>\n",
       "      <td>178</td>\n",
       "      <td>0</td>\n",
       "      <td>0</td>\n",
       "      <td>0</td>\n",
       "      <td>0</td>\n",
       "      <td>Combined</td>\n",
       "      <td>2025-01-08</td>\n",
       "      <td>0</td>\n",
       "    </tr>\n",
       "  </tbody>\n",
       "</table>\n",
       "</div>"
      ],
      "text/plain": [
       "    age  gender      country diagnosis_date cancer_stage family_history  \\\n",
       "0  64.0    Male       Sweden     2016-04-05      Stage I            Yes   \n",
       "1  50.0  Female  Netherlands     2023-04-20    Stage III            Yes   \n",
       "2  65.0  Female      Hungary     2023-04-05    Stage III            Yes   \n",
       "3  51.0  Female      Belgium     2016-02-05      Stage I             No   \n",
       "4  37.0    Male   Luxembourg     2023-11-29      Stage I             No   \n",
       "\n",
       "   smoking_status   bmi  cholesterol_level  hypertension  asthma  cirrhosis  \\\n",
       "0  Passive Smoker  29.4                199             0       0          1   \n",
       "1  Passive Smoker  41.2                280             1       1          0   \n",
       "2   Former Smoker  44.0                268             1       1          0   \n",
       "3  Passive Smoker  43.0                241             1       1          0   \n",
       "4  Passive Smoker  19.7                178             0       0          0   \n",
       "\n",
       "   other_cancer treatment_type end_treatment_date  survived  \n",
       "0             0   Chemotherapy         2017-09-10         0  \n",
       "1             0        Surgery         2024-06-17         1  \n",
       "2             0       Combined         2024-04-09         0  \n",
       "3             0   Chemotherapy         2017-04-23         0  \n",
       "4             0       Combined         2025-01-08         0  "
      ]
     },
     "execution_count": 45,
     "metadata": {},
     "output_type": "execute_result"
    }
   ],
   "source": [
    "lung_cancer_df.head()"
   ]
  },
  {
   "cell_type": "code",
   "execution_count": 46,
   "id": "411ac2f6",
   "metadata": {},
   "outputs": [],
   "source": [
    "numeric_features = [\n",
    "    \"age\",\n",
    "    \"bmi\",\n",
    "    \"cholesterol_level\",\n",
    "    \"hypertension\",\n",
    "    \"asthma\",\n",
    "    \"cirrhosis\",\n",
    "    \"other_cancer\"\n",
    "]\n",
    "\n",
    "categoriocal_features = [\n",
    "    \"gender\",\n",
    "    \"country\",\n",
    "    \"cancer_stage\",\n",
    "    \"family_history\",\n",
    "    \"smoking_status\",\n",
    "    \"treatment_type\"\n",
    "]\n",
    "\n",
    "date_features = [\n",
    "    \"diagnosis_date\",\n",
    "    \"end_treatment_date\"\n",
    "]\n",
    "\n",
    "label = [\"survived\"]"
   ]
  },
  {
   "cell_type": "markdown",
   "id": "d7aff3f6",
   "metadata": {},
   "source": [
    "# Processing dates"
   ]
  },
  {
   "cell_type": "code",
   "execution_count": 47,
   "id": "4783e533",
   "metadata": {},
   "outputs": [],
   "source": [
    "# Dropping dates to avoid data leakage\n",
    "lung_cancer_df.drop(date_features, inplace=True, axis=1)"
   ]
  },
  {
   "cell_type": "markdown",
   "id": "52c41639",
   "metadata": {},
   "source": [
    "# Exploring categorical features and transforming"
   ]
  },
  {
   "cell_type": "code",
   "execution_count": 48,
   "id": "bfa1535a",
   "metadata": {},
   "outputs": [
    {
     "name": "stdout",
     "output_type": "stream",
     "text": [
      "gender\n",
      "Male      445134\n",
      "Female    444866\n",
      "Name: count, dtype: int64\n",
      "2\n",
      "\n",
      "country\n",
      "Malta             33367\n",
      "Ireland           33243\n",
      "Portugal          33208\n",
      "France            33199\n",
      "Sweden            33161\n",
      "Croatia           33138\n",
      "Greece            33052\n",
      "Spain             33042\n",
      "Netherlands       33040\n",
      "Denmark           33024\n",
      "Slovenia          33005\n",
      "Belgium           32986\n",
      "Hungary           32981\n",
      "Romania           32963\n",
      "Poland            32949\n",
      "Italy             32948\n",
      "Germany           32940\n",
      "Estonia           32893\n",
      "Czech Republic    32885\n",
      "Lithuania         32856\n",
      "Slovakia          32853\n",
      "Austria           32832\n",
      "Finland           32798\n",
      "Luxembourg        32794\n",
      "Cyprus            32719\n",
      "Latvia            32565\n",
      "Bulgaria          32559\n",
      "Name: count, dtype: int64\n",
      "27\n",
      "\n",
      "cancer_stage\n",
      "Stage III    222594\n",
      "Stage IV     222527\n",
      "Stage I      222516\n",
      "Stage II     222363\n",
      "Name: count, dtype: int64\n",
      "4\n",
      "\n",
      "family_history\n",
      "No     445181\n",
      "Yes    444819\n",
      "Name: count, dtype: int64\n",
      "2\n",
      "\n",
      "smoking_status\n",
      "Passive Smoker    223170\n",
      "Never Smoked      222751\n",
      "Former Smoker     222181\n",
      "Current Smoker    221898\n",
      "Name: count, dtype: int64\n",
      "4\n",
      "\n",
      "treatment_type\n",
      "Chemotherapy    223262\n",
      "Surgery         223261\n",
      "Combined        222609\n",
      "Radiation       220868\n",
      "Name: count, dtype: int64\n",
      "4\n",
      "\n"
     ]
    }
   ],
   "source": [
    "for cat_f in categoriocal_features:\n",
    "\n",
    "    print(lung_cancer_df[cat_f].value_counts())\n",
    "    print(len(lung_cancer_df[cat_f].unique()))\n",
    "    print(\"\")"
   ]
  },
  {
   "cell_type": "code",
   "execution_count": 49,
   "id": "c5ae360c",
   "metadata": {},
   "outputs": [],
   "source": [
    "one_hot_encoder = OneHotEncoder(\n",
    "    handle_unknown=\"ignore\",\n",
    "    sparse_output=False,\n",
    "    dtype=\"int8\",\n",
    "    drop=\"first\" # Useful to test Logistic Regression\n",
    ")\n",
    "lung_ohe_cat_matrix = one_hot_encoder.fit_transform(lung_cancer_df[categoriocal_features])\n",
    "\n",
    "lung_cancer_df.drop(categoriocal_features, axis=1, inplace=True)\n",
    "\n",
    "ohe_name_cols = one_hot_encoder.get_feature_names_out()\n",
    "lung_cancer_df[ohe_name_cols] = lung_ohe_cat_matrix"
   ]
  },
  {
   "cell_type": "markdown",
   "id": "198f1bb8",
   "metadata": {},
   "source": [
    "# Exploring numeric variables"
   ]
  },
  {
   "cell_type": "code",
   "execution_count": 50,
   "id": "dbe3df94",
   "metadata": {},
   "outputs": [
    {
     "data": {
      "text/html": [
       "<div>\n",
       "<style scoped>\n",
       "    .dataframe tbody tr th:only-of-type {\n",
       "        vertical-align: middle;\n",
       "    }\n",
       "\n",
       "    .dataframe tbody tr th {\n",
       "        vertical-align: top;\n",
       "    }\n",
       "\n",
       "    .dataframe thead th {\n",
       "        text-align: right;\n",
       "    }\n",
       "</style>\n",
       "<table border=\"1\" class=\"dataframe\">\n",
       "  <thead>\n",
       "    <tr style=\"text-align: right;\">\n",
       "      <th></th>\n",
       "      <th>age</th>\n",
       "      <th>bmi</th>\n",
       "      <th>cholesterol_level</th>\n",
       "      <th>hypertension</th>\n",
       "      <th>asthma</th>\n",
       "      <th>cirrhosis</th>\n",
       "      <th>other_cancer</th>\n",
       "    </tr>\n",
       "  </thead>\n",
       "  <tbody>\n",
       "    <tr>\n",
       "      <th>count</th>\n",
       "      <td>890000.000000</td>\n",
       "      <td>890000.000000</td>\n",
       "      <td>890000.000000</td>\n",
       "      <td>890000.000000</td>\n",
       "      <td>890000.000000</td>\n",
       "      <td>890000.000000</td>\n",
       "      <td>890000.000000</td>\n",
       "    </tr>\n",
       "    <tr>\n",
       "      <th>mean</th>\n",
       "      <td>55.007008</td>\n",
       "      <td>30.494172</td>\n",
       "      <td>233.633916</td>\n",
       "      <td>0.750024</td>\n",
       "      <td>0.469740</td>\n",
       "      <td>0.225956</td>\n",
       "      <td>0.088157</td>\n",
       "    </tr>\n",
       "    <tr>\n",
       "      <th>std</th>\n",
       "      <td>9.994485</td>\n",
       "      <td>8.368539</td>\n",
       "      <td>43.432278</td>\n",
       "      <td>0.432999</td>\n",
       "      <td>0.499084</td>\n",
       "      <td>0.418211</td>\n",
       "      <td>0.283524</td>\n",
       "    </tr>\n",
       "    <tr>\n",
       "      <th>min</th>\n",
       "      <td>4.000000</td>\n",
       "      <td>16.000000</td>\n",
       "      <td>150.000000</td>\n",
       "      <td>0.000000</td>\n",
       "      <td>0.000000</td>\n",
       "      <td>0.000000</td>\n",
       "      <td>0.000000</td>\n",
       "    </tr>\n",
       "    <tr>\n",
       "      <th>25%</th>\n",
       "      <td>48.000000</td>\n",
       "      <td>23.300000</td>\n",
       "      <td>196.000000</td>\n",
       "      <td>1.000000</td>\n",
       "      <td>0.000000</td>\n",
       "      <td>0.000000</td>\n",
       "      <td>0.000000</td>\n",
       "    </tr>\n",
       "    <tr>\n",
       "      <th>50%</th>\n",
       "      <td>55.000000</td>\n",
       "      <td>30.500000</td>\n",
       "      <td>242.000000</td>\n",
       "      <td>1.000000</td>\n",
       "      <td>0.000000</td>\n",
       "      <td>0.000000</td>\n",
       "      <td>0.000000</td>\n",
       "    </tr>\n",
       "    <tr>\n",
       "      <th>75%</th>\n",
       "      <td>62.000000</td>\n",
       "      <td>37.700000</td>\n",
       "      <td>271.000000</td>\n",
       "      <td>1.000000</td>\n",
       "      <td>1.000000</td>\n",
       "      <td>0.000000</td>\n",
       "      <td>0.000000</td>\n",
       "    </tr>\n",
       "    <tr>\n",
       "      <th>max</th>\n",
       "      <td>104.000000</td>\n",
       "      <td>45.000000</td>\n",
       "      <td>300.000000</td>\n",
       "      <td>1.000000</td>\n",
       "      <td>1.000000</td>\n",
       "      <td>1.000000</td>\n",
       "      <td>1.000000</td>\n",
       "    </tr>\n",
       "  </tbody>\n",
       "</table>\n",
       "</div>"
      ],
      "text/plain": [
       "                 age            bmi  cholesterol_level   hypertension  \\\n",
       "count  890000.000000  890000.000000      890000.000000  890000.000000   \n",
       "mean       55.007008      30.494172         233.633916       0.750024   \n",
       "std         9.994485       8.368539          43.432278       0.432999   \n",
       "min         4.000000      16.000000         150.000000       0.000000   \n",
       "25%        48.000000      23.300000         196.000000       1.000000   \n",
       "50%        55.000000      30.500000         242.000000       1.000000   \n",
       "75%        62.000000      37.700000         271.000000       1.000000   \n",
       "max       104.000000      45.000000         300.000000       1.000000   \n",
       "\n",
       "              asthma      cirrhosis   other_cancer  \n",
       "count  890000.000000  890000.000000  890000.000000  \n",
       "mean        0.469740       0.225956       0.088157  \n",
       "std         0.499084       0.418211       0.283524  \n",
       "min         0.000000       0.000000       0.000000  \n",
       "25%         0.000000       0.000000       0.000000  \n",
       "50%         0.000000       0.000000       0.000000  \n",
       "75%         1.000000       0.000000       0.000000  \n",
       "max         1.000000       1.000000       1.000000  "
      ]
     },
     "execution_count": 50,
     "metadata": {},
     "output_type": "execute_result"
    }
   ],
   "source": [
    "lung_cancer_df[numeric_features].describe()"
   ]
  },
  {
   "cell_type": "markdown",
   "id": "e84309c7",
   "metadata": {},
   "source": [
    "Variables \"hypertension\", \"asthma\", \"cirrhosis\" and \"other_cancer\" are binary"
   ]
  },
  {
   "cell_type": "code",
   "execution_count": 51,
   "id": "bde6a9a6",
   "metadata": {},
   "outputs": [
    {
     "data": {
      "text/plain": [
       "['age', 'bmi', 'cholesterol_level']"
      ]
     },
     "execution_count": 51,
     "metadata": {},
     "output_type": "execute_result"
    }
   ],
   "source": [
    "aditional_cat = [\"hypertension\", \"asthma\", \"cirrhosis\", \"other_cancer\"]\n",
    "_ = [numeric_features.remove(ad_cat) for ad_cat in aditional_cat]\n",
    "\n",
    "numeric_features"
   ]
  },
  {
   "cell_type": "code",
   "execution_count": 52,
   "id": "8c655797",
   "metadata": {},
   "outputs": [],
   "source": [
    "lung_cancer_df[aditional_cat] = lung_cancer_df[aditional_cat].astype(\"int8\")"
   ]
  },
  {
   "cell_type": "code",
   "execution_count": 53,
   "id": "fd2f184b",
   "metadata": {},
   "outputs": [],
   "source": [
    "normalizer = StandardScaler()\n",
    "lung_cancer_df[numeric_features] = normalizer.fit_transform(lung_cancer_df[numeric_features])"
   ]
  },
  {
   "cell_type": "markdown",
   "id": "9bdae2da",
   "metadata": {},
   "source": [
    "# Changing data type of label"
   ]
  },
  {
   "cell_type": "code",
   "execution_count": 54,
   "id": "d3c83df0",
   "metadata": {},
   "outputs": [],
   "source": [
    "lung_cancer_df[label] = lung_cancer_df[label].astype(\"int8\")"
   ]
  },
  {
   "cell_type": "markdown",
   "id": "93602c62",
   "metadata": {},
   "source": [
    "# Saving"
   ]
  },
  {
   "cell_type": "code",
   "execution_count": 55,
   "id": "1a1e0c14",
   "metadata": {},
   "outputs": [],
   "source": [
    "all_columns = list(lung_cancer_df.columns)\n",
    "all_columns.remove(label[0])"
   ]
  },
  {
   "cell_type": "code",
   "execution_count": 56,
   "id": "eb2b28de",
   "metadata": {},
   "outputs": [],
   "source": [
    "lung_cancer_df = lung_cancer_df[label + all_columns]"
   ]
  },
  {
   "cell_type": "code",
   "execution_count": 57,
   "id": "81e75db8",
   "metadata": {},
   "outputs": [],
   "source": [
    "lung_cancer_df.to_parquet(\"../data/processed/lung_cancer.parquet\", index=False)"
   ]
  }
 ],
 "metadata": {
  "kernelspec": {
   "display_name": "aws",
   "language": "python",
   "name": "python3"
  },
  "language_info": {
   "codemirror_mode": {
    "name": "ipython",
    "version": 3
   },
   "file_extension": ".py",
   "mimetype": "text/x-python",
   "name": "python",
   "nbconvert_exporter": "python",
   "pygments_lexer": "ipython3",
   "version": "3.12.11"
  }
 },
 "nbformat": 4,
 "nbformat_minor": 5
}
